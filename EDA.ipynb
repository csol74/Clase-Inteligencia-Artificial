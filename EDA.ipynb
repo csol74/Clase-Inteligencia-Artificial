{
  "nbformat": 4,
  "nbformat_minor": 0,
  "metadata": {
    "colab": {
      "provenance": [],
      "authorship_tag": "ABX9TyNPxuUj9IvMeuNZyHayYVWI",
      "include_colab_link": true
    },
    "kernelspec": {
      "name": "python3",
      "display_name": "Python 3"
    },
    "language_info": {
      "name": "python"
    }
  },
  "cells": [
    {
      "cell_type": "markdown",
      "metadata": {
        "id": "view-in-github",
        "colab_type": "text"
      },
      "source": [
        "<a href=\"https://colab.research.google.com/github/csol74/Clase-Inteligencia-Artificial/blob/main/EDA.ipynb\" target=\"_parent\"><img src=\"https://colab.research.google.com/assets/colab-badge.svg\" alt=\"Open In Colab\"/></a>"
      ]
    },
    {
      "cell_type": "markdown",
      "source": [
        "Cuaderno de práctica de tipos de datos\n",
        "\n",
        "Aqui voy a colocar los ejemplos\n",
        "!(Imagen)[]\n",
        "\n",
        "Dataframe son arreglos de datos que tienen diferentes tipos\n"
      ],
      "metadata": {
        "id": "VBntwKfuTQib"
      }
    },
    {
      "cell_type": "code",
      "source": [
        "import pandas as pd\n",
        "import numpy as np\n",
        "df= pd.read_csv(\"https://raw.githubusercontent.com/adiacla/bigdata/refs/heads/master/vivienda_clasificacion.csv\")\n",
        "df"
      ],
      "metadata": {
        "id": "MTKR1oHPUUdy"
      },
      "execution_count": 1,
      "outputs": []
    },
    {
      "cell_type": "code",
      "source": [],
      "metadata": {
        "id": "T_EhFpIHUZ6x"
      },
      "execution_count": null,
      "outputs": []
    },
    {
      "cell_type": "markdown",
      "source": [],
      "metadata": {
        "id": "aFCbjNwgV0n4"
      }
    }
  ]
}